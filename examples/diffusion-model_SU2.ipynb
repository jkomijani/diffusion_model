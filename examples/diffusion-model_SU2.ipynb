{
 "cells": [
  {
   "cell_type": "markdown",
   "id": "57ce0dd0-2ff4-4829-837b-1455993d52ad",
   "metadata": {},
   "source": [
    "# Diffusion models\n",
    "\n",
    "*March 15, 2024*\n",
    "\n",
    "**[Javad Komijani (ETH Zurich)](mailto:jkomijani@gmail.com)**"
   ]
  },
  {
   "cell_type": "markdown",
   "id": "c32deda4-b228-4cec-9963-bf16132467a6",
   "metadata": {},
   "source": [
    "# Example: SU(2)"
   ]
  },
  {
   "cell_type": "markdown",
   "id": "a1696d71-0cfd-44aa-92d7-d1a35e90bf16",
   "metadata": {},
   "source": [
    "## Data for training and test\n",
    "\n",
    "We use `normlfow` package to generate samples for training the diffusion model and testing.\n",
    "We use a pre-trained `normflow` model to generate $16 \\times 1024$ samples, where 1024\n",
    "samples will be used for training and the rest for making histograms."
   ]
  },
  {
   "cell_type": "code",
   "execution_count": 1,
   "id": "14738a93-f525-402b-ae66-062e7ce5ec5a",
   "metadata": {},
   "outputs": [],
   "source": [
    "import torch\n",
    "import numpy as np\n",
    "import matplotlib.pyplot as plt\n",
    "import matplotlib as mpl\n",
    "mpl.rcParams[\"text.usetex\"] = True"
   ]
  },
  {
   "cell_type": "code",
   "execution_count": 2,
   "id": "3f36136b-1770-4f71-a6fe-c1bc306aa31c",
   "metadata": {},
   "outputs": [],
   "source": [
    "from normflow import Model as NormflowModel\n",
    "from normflow import reverse_flow_sanitychecker\n",
    "\n",
    "from normflow.action import MatrixAction\n",
    "\n",
    "from normflow.prior import SUnPrior\n",
    "from normflow.prior import NormalPrior"
   ]
  },
  {
   "cell_type": "code",
   "execution_count": 3,
   "id": "135f3b8a-4601-4186-8424-150777b60884",
   "metadata": {},
   "outputs": [],
   "source": [
    "from normflow.nn import MultiChannelModule_\n",
    "from normflow.nn import MatrixModule_\n",
    "from normflow.nn import UnityDistConvertor_\n",
    "from normflow.lib.matrix_handles import SU2MatrixParametrizer\n",
    "from normflow.lib.matrix_handles import SU3MatrixParametrizer\n",
    "\n",
    "\n",
    "def assemble_net(*, n_c, knots_len):\n",
    "    \n",
    "    if n_c == 2:\n",
    "        par_net_ = UnityDistConvertor_(knots_len)\n",
    "        matrix_handle = SU2MatrixParametrizer()\n",
    "        \n",
    "    elif n_c == 3:\n",
    "        par_net_ = MultiChannelModule_(\n",
    "            [UnityDistConvertor_(knots_len),\n",
    "             UnityDistConvertor_(knots_len, symmetric=True)]\n",
    "        )\n",
    "        matrix_handle = SU3MatrixParametrizer()\n",
    "\n",
    "    return MatrixModule_(par_net_, matrix_handle=matrix_handle)"
   ]
  },
  {
   "cell_type": "code",
   "execution_count": 4,
   "id": "aac5a18d-9fab-4a91-8b72-eb713256480d",
   "metadata": {},
   "outputs": [
    {
     "name": "stdout",
     "output_type": "stream",
     "text": [
      "number of model parameters = 10\n"
     ]
    }
   ],
   "source": [
    "def make_normflow_model(n_c, beta, knots_len=4):\n",
    "    # Define the prior distribution\n",
    "    prior = SUnPrior(n=n_c, shape=(1,))\n",
    "    \n",
    "    # Define the action\n",
    "    action = MatrixAction(beta=beta)\n",
    "    \n",
    "    # Initialize the neural network for transformations\n",
    "    net_ = assemble_net(n_c=n_c, knots_len=knots_len)\n",
    "    \n",
    "    # Create the Model with the defined components\n",
    "    nf_model = NormflowModel(net_=net_, prior=prior, action=action)\n",
    "\n",
    "    print(\"number of model parameters =\", nf_model.net_.npar)\n",
    "    \n",
    "    return nf_model\n",
    "\n",
    "\n",
    "# Instantiate the model\n",
    "nf_model =  make_normflow_model(n_c=2, beta=6, knots_len=4)"
   ]
  },
  {
   "cell_type": "code",
   "execution_count": 5,
   "id": "29df533e-119e-4c17-859f-a493ceaf36ec",
   "metadata": {},
   "outputs": [],
   "source": [
    "train_the_model = False\n",
    "\n",
    "if train_the_model:\n",
    "    nf_model.train(n_epochs=5000, batch_size=1024, checkpoint_dict=dict(print_stride=100))\n",
    "\n",
    "else:\n",
    "    weights_blob = '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'\n",
    "    nf_model.net_.set_weights_blob(weights_blob)"
   ]
  },
  {
   "cell_type": "markdown",
   "id": "c0b775bb-93a6-4008-99d8-1ed9f302bc8a",
   "metadata": {},
   "source": [
    "#### Create a data loader for training the diffusion model"
   ]
  },
  {
   "cell_type": "code",
   "execution_count": 6,
   "id": "34efdfe4-8786-4bc8-87ef-d55cbf13f259",
   "metadata": {},
   "outputs": [],
   "source": [
    "from normflow.lib.matrix_handles import SU2Algebra2Group_\n",
    "from normflow.lib.matrix_handles import SU3Algebra2Group_"
   ]
  },
  {
   "cell_type": "code",
   "execution_count": 7,
   "id": "1450a54b-f89d-40a9-85ce-74452465c55b",
   "metadata": {},
   "outputs": [
    {
     "name": "stdout",
     "output_type": "stream",
     "text": [
      "acceptance rate of normflow model: 0.9911\n"
     ]
    }
   ],
   "source": [
    "# Generate 16 * 1024 samples, use 4096 for training and all for making histograms\n",
    "nf_samples = nf_model.mcmc.sample(1024 * 16)\n",
    "nf_alg_samples = SU2Algebra2Group_().reverse(nf_samples)[0]\n",
    "\n",
    "print(\"acceptance rate of normflow model: %.4g\" % nf_model.mcmc.history.accept_rate[-1])"
   ]
  },
  {
   "cell_type": "code",
   "execution_count": 8,
   "id": "d1ba4044-ebcf-4664-8a4b-6764140930c9",
   "metadata": {},
   "outputs": [
    {
     "name": "stdout",
     "output_type": "stream",
     "text": [
      "shape of training data torch.Size([4096, 1, 2, 2]) torch.Size([4096, 1, 3])\n"
     ]
    }
   ],
   "source": [
    "# Use 1024 * 4 for training \n",
    "\n",
    "training_samples = nf_samples[4096::3]\n",
    "training_alg_samples = nf_alg_samples[4096::3]\n",
    "\n",
    "print(\"shape of training data\", training_samples.shape, training_alg_samples.shape)"
   ]
  },
  {
   "cell_type": "markdown",
   "id": "51ff0736-5e3a-4543-87e6-99f5d0a9fab7",
   "metadata": {},
   "source": [
    "# Creating and training a diffusion model\n",
    "\n",
    "Similar to [normflow](https://github.com/jkomijani/normflow) package,\n",
    "one should provide three essential components for a diffusion model:\n",
    "\n",
    "*   A **prior distribution** to draw initial samples in the reverse process for\n",
    "    genearting samples.\n",
    "*   A **diffusion process**, which consists of neural network that models\n",
    "    **score function**, which can be used to perform the reverse process.\n",
    "*   An **action** that specifies the target distribution, defining the goal of the generative model.\n",
    "  \n",
    "The central high-level class of the package is called `Model`, which can be instantiated by\n",
    "providing instances of the three objects mentioned above as\n",
    "\n",
    "\n",
    "```python\n",
    "Model(\n",
    "    prior = prior,\n",
    "    diffusion_process = DiffusionProcess(reduced_score_func),\n",
    "    action = action\n",
    "    )\n",
    "```\n",
    "\n",
    "Unlike the functions used in the method of normalizing flows,\n",
    "**score function** does not need to be invertible."
   ]
  },
  {
   "cell_type": "markdown",
   "id": "2c20ced2-ce50-4d42-86f7-3e03d9a26485",
   "metadata": {},
   "source": [
    "Before we continue, let us create a dummy `DiffusionProcess` without any score\n",
    "function and see the effect of the diffusion process."
   ]
  },
  {
   "cell_type": "code",
   "execution_count": 9,
   "id": "7b19d569-8b8d-4032-8f06-3c88d41d1642",
   "metadata": {},
   "outputs": [],
   "source": [
    "from diffusion_model import SUnDiffusionProcess\n",
    "\n",
    "diff_proc = SUnDiffusionProcess(None)\n",
    "\n",
    "t_eval = np.linspace(0, 1, 200)\n",
    "\n",
    "diffused_samples = diff_proc.run_diffusion_process(nf_samples, t_eval=t_eval)"
   ]
  },
  {
   "cell_type": "code",
   "execution_count": 10,
   "id": "1e64e642-12c9-4ecb-a343-63d334b7f609",
   "metadata": {},
   "outputs": [],
   "source": [
    "theta = [torch.linalg.eig(sample)[0].angle() for sample in diffused_samples]"
   ]
  },
  {
   "cell_type": "code",
   "execution_count": 11,
   "id": "d3d80bf4-84e6-4b54-915b-27dd71ad7abc",
   "metadata": {},
   "outputs": [
    {
     "name": "stdout",
     "output_type": "stream",
     "text": [
      "shape = (200, 16384, 1, 2)\n"
     ]
    }
   ],
   "source": [
    "# Useful for plotting:\n",
    "\n",
    "grab = lambda x: x.detach().cpu().numpy()\n",
    "\n",
    "theta = np.array([grab(q) for q in theta])\n",
    "\n",
    "shape = theta.shape\n",
    "print(\"shape =\", shape)\n",
    "\n",
    "t_eval = np.tile(t_eval[:, None], (1, np.prod(shape[1:]))).reshape(*shape)"
   ]
  },
  {
   "cell_type": "code",
   "execution_count": 12,
   "id": "ba805c77-ab02-4f4b-a112-60eba76de11a",
   "metadata": {},
   "outputs": [
    {
     "data": {
      "image/png": "[encoded data removed]",
      "text/plain": [
       "<Figure size 1000x500 with 3 Axes>"
      ]
     },
     "metadata": {},
     "output_type": "display_data"
    }
   ],
   "source": [
    "fig, axs = plt.subplots(1, 3, figsize=(10, 5), gridspec_kw={'width_ratios': [0.2, 1, 0.2]})\n",
    "\n",
    "axs[1].hist2d(t_eval.ravel(), theta.ravel(), norm=mpl.colors.PowerNorm(0.5), cmap='Blues', bins=100);\n",
    "\n",
    "hist_kwargs = dict(bins=50, color='royalblue', density=True, orientation='horizontal')\n",
    "\n",
    "axs[0].hist(theta[0].ravel(), label=\"samples\", **hist_kwargs)\n",
    "axs[2].hist(theta[-1].ravel(), label=r\"$x_1$\", **hist_kwargs)\n",
    "axs[0].invert_xaxis()  # Invert x-axis to place histogram to the left\n",
    "\n",
    "# Add\n",
    "# x_0 = torch.linspace(-8.0, 8.0, 100)\n",
    "# axs[0].plot(grab(calc_normalized_probability(nf_model, x_0)), grab(x_0), '--k', label=\"PDF\")\n",
    "# axs[2].plot(grab(torch.exp(-x_0**2 / 2)) / (2*np.pi)**0.5, grab(x_0), '--k', label=\"Gaussian\")\n",
    "\n",
    "# Remove undesired axis ticks and labels\n",
    "axs[1].set_yticks([])\n",
    "axs[2].set_yticks([])\n",
    "axs[0].set_xticks([])\n",
    "axs[2].set_xticks([])\n",
    "\n",
    "# Add title\n",
    "axs[0].set_title(\"input data\")\n",
    "axs[1].set_title(r\"$\\frac{d}{dt}  x_t = \\sqrt{2 \\pi} \\eta_t$  (with $x_0 = $ data samples)\")\n",
    "axs[2].set_title(\"diffused output\")\n",
    "\n",
    "# Set ylim\n",
    "axs[0].set_ylim([-4, 4])\n",
    "axs[1].set_ylim([-4, 4])\n",
    "axs[2].set_ylim([-4, 4])\n",
    "axs[0].set_xlim([0.8, 0])\n",
    "axs[2].set_xlim([0, 0.8])\n",
    "\n",
    "# Decrease horizontal spacing between subplots\n",
    "plt.subplots_adjust(wspace=0.02)\n",
    "\n",
    "# Add legend\n",
    "axs[0].legend()\n",
    "axs[1].grid()\n",
    "axs[2].legend()\n",
    "\n",
    "axs[1].set_xlabel(r'Diffusion Time (from 0 to 1)');\n",
    "\n",
    "fig.savefig(\"diffusion_process.jpg\")"
   ]
  },
  {
   "cell_type": "markdown",
   "id": "05d8838b-bb3d-40b0-a10b-4622b20ab18a",
   "metadata": {},
   "source": [
    "## Score function\n",
    "\n",
    "We now give a simple neural networ for the reduced score function and a more\n",
    "advanced one based on *time embedding*. We will see that the simple one\n",
    "performs in general even better that the time-embedded one in the case of\n",
    "1 degree of freedom, but for higher dimensional problems one should use\n",
    "time embedded neural networks."
   ]
  },
  {
   "cell_type": "code",
   "execution_count": 13,
   "id": "4920457e-bc6c-49c4-bfb0-57963fc421eb",
   "metadata": {},
   "outputs": [],
   "source": [
    "def make_traceless(matrix: torch.Tensor) -> torch.Tensor:\n",
    "    \"\"\"Removes the trace component from a square matrix.\"\"\"\n",
    "    # Compute the mean trace across the last two dimensions\n",
    "    trace_mean = matrix.diagonal(dim1=-2, dim2=-1).mean(dim=-1, keepdim=True)\n",
    "    \n",
    "    # Subtract the mean trace from the diagonal elements\n",
    "    return matrix - torch.diag_embed(trace_mean.expand(matrix.shape[:-1]))\n",
    "\n",
    "\n",
    "class SU2ScoreFunc(torch.nn.Module):\n",
    "    \"\"\"A score function for SU(2) matrices.\n",
    "\n",
    "    This model takes as input the time `t` and the initial state matrix `x`\n",
    "    and predicts a transformation score while ensuring the output remains\n",
    "    antihermitian and traceless.\n",
    "\n",
    "    The network consists of fully connected layers with SiLU activations.\n",
    "\n",
    "    Attributes:\n",
    "        net: A sequential model composed of linear layers and activations.\n",
    "    \"\"\"\n",
    "\n",
    "    def __init__(self, hidden_sizes: list[int] = [32, 32, 32, 32]):\n",
    "        \"\"\"Initializes the SU2ScoreFunc neural network.\"\"\"\n",
    "        super().__init__()\n",
    "\n",
    "        in_features = 9  # Inputs: (t, trace.real, trace.imag)\n",
    "        out_features = 8  # Outputs: Score\n",
    "\n",
    "        layer_sizes = [in_features, *hidden_sizes, out_features]\n",
    "        layers = []\n",
    "\n",
    "        # Construct the network layers\n",
    "        for i in range(len(layer_sizes) - 1):\n",
    "            layers.append(torch.nn.Linear(layer_sizes[i], layer_sizes[i + 1]))\n",
    "            if i < len(layer_sizes) - 2:  # No activation for the last layer\n",
    "                layers.append(torch.nn.SiLU())\n",
    "\n",
    "        self.net = torch.nn.Sequential(*layers)\n",
    "\n",
    "    def forward(self, t: torch.Tensor, x: torch.Tensor) -> torch.Tensor:\n",
    "        \"\"\"Computes the forward pass of the SU2 score function.\n",
    "\n",
    "        Given a time `t` and a matrix `x`, the function processes the input\n",
    "        through the neural network and applies post-processing to ensure the\n",
    "        output is antihermitian and traceless.\n",
    "\n",
    "        Args:\n",
    "            - t (torch.Tensor): A 0D or 1D tensor representing time.\n",
    "              If 1D, it is of shape (batch_size,)\n",
    "            - x (torch.Tensor): A complex-valued input tensor of shape\n",
    "              (batch_size, 1, 2, 2).\n",
    "\n",
    "        Returns:\n",
    "            - torch.Tensor: A antihermitian, traceless score tensor of shape\n",
    "              (batch_size, 1, 2, 2).\n",
    "        \"\"\"\n",
    "        # Ensure t is a batch tensor\n",
    "        if t.ndim == 0:\n",
    "            t = t.repeat(x.shape[0])\n",
    "\n",
    "        # Reshape x and extract real & imaginary parts as features\n",
    "        x_flattened = x.reshape(-1, 4)\n",
    "        x = torch.cat([t[:, None], x_flattened.real, x_flattened.imag], dim=-1)\n",
    "\n",
    "        # Forward pass through the network\n",
    "        x = self.net(x)\n",
    "\n",
    "        # Convert the output to a complex tensor with appropriate shape\n",
    "        x = torch.view_as_complex(x.reshape(-1, 1, 2, 2, 2))\n",
    "\n",
    "        # Ensure the output is antihermitian and traceless\n",
    "        return make_traceless(x - x.adjoint())"
   ]
  },
  {
   "cell_type": "code",
   "execution_count": 14,
   "id": "027b9b99-67ea-4d99-a1d7-991688839e4a",
   "metadata": {},
   "outputs": [],
   "source": [
    "# Now the build the model\n",
    "\n",
    "from diffusion_model import Model\n",
    "\n",
    "\n",
    "def make_model():\n",
    "    model = Model(\n",
    "        prior = nf_model.prior,\n",
    "        action = nf_model.action,\n",
    "        diffusion_process = SUnDiffusionProcess(SU2ScoreFunc())\n",
    "    )\n",
    "    return model"
   ]
  },
  {
   "cell_type": "code",
   "execution_count": 15,
   "id": "28827541-b287-44c8-bfbf-d8f7d5b1a7ec",
   "metadata": {},
   "outputs": [],
   "source": [
    "from torch.utils.data import Dataset, DataLoader, TensorDataset\n",
    "\n",
    "batch_size = 256\n",
    "\n",
    "dataset = TensorDataset(training_samples)\n",
    "\n",
    "data_loader = DataLoader(\n",
    "    dataset,\n",
    "    batch_size = batch_size,\n",
    "    shuffle = False\n",
    ")\n",
    "\n",
    "\n",
    "dataset = TensorDataset(training_samples)\n",
    "\n",
    "data_loader = DataLoader(\n",
    "    dataset,\n",
    "    batch_size = batch_size,\n",
    "    shuffle = False\n",
    ")"
   ]
  },
  {
   "cell_type": "code",
   "execution_count": 16,
   "id": "3e486219-2893-4b17-a930-5ba8b556612c",
   "metadata": {},
   "outputs": [],
   "source": [
    "from functools import partial\n",
    "\n",
    "n_epochs = 100\n",
    "\n",
    "fit_kwargs = dict(\n",
    "    n_epochs = n_epochs,\n",
    "    n_timesteps = 1000,\n",
    "    hyperparam = dict(lr=0.01, betas=(0.9, 0.99)),\n",
    "    checkpoint_dict = dict(print_every=10),\n",
    "    scheduler = partial(\n",
    "                torch.optim.lr_scheduler.CosineAnnealingLR,                     \n",
    "                T_max = int(1.01 * n_epochs)                                    \n",
    "                )\n",
    ")"
   ]
  },
  {
   "cell_type": "code",
   "execution_count": 17,
   "id": "c6232cf2-e9dd-47dc-a154-157fd8fa21bb",
   "metadata": {},
   "outputs": [
    {
     "name": "stdout",
     "output_type": "stream",
     "text": [
      ">>> Training started for 100 epochs <<<\n",
      "Epoch: 10 | loss: 0.7001\n",
      "Epoch: 20 | loss: 0.6798\n",
      "Epoch: 30 | loss: 0.6989\n",
      "Epoch: 40 | loss: 0.6874\n",
      "Epoch: 50 | loss: 0.6953\n",
      "Epoch: 60 | loss: 0.6903\n",
      "Epoch: 70 | loss: 0.7028\n",
      "Epoch: 80 | loss: 0.6841\n",
      "Epoch: 90 | loss: 0.6842\n",
      "Epoch: 100 | loss: 0.6770\n",
      ">>> Training finished (cpu); TIME = 249 sec <<<\n"
     ]
    }
   ],
   "source": [
    "su2_diffusion_model = make_model()\n",
    "su2_diffusion_model.train(data_loader, **fit_kwargs)"
   ]
  },
  {
   "cell_type": "code",
   "execution_count": 18,
   "id": "b5a87f46-e814-463a-87be-3727dca5fdad",
   "metadata": {},
   "outputs": [
    {
     "data": {
      "text/plain": [
       "Text(0, 0.5, 'Loss')"
      ]
     },
     "execution_count": 18,
     "metadata": {},
     "output_type": "execute_result"
    },
    {
     "data": {
      "image/png": "[encoded data removed]",
      "text/plain": [
       "<Figure size 500x300 with 1 Axes>"
      ]
     },
     "metadata": {},
     "output_type": "display_data"
    }
   ],
   "source": [
    "fig, axs = plt.subplots(1, 1, figsize=(5, 3))\n",
    "\n",
    "loss = su2_diffusion_model.train.train_history['loss'][1:]\n",
    "epochs = np.arange(1, len(loss) + 1)\n",
    "plt.plot(epochs, loss, '.')\n",
    "# plt.xlim([0, 200])\n",
    "plt.ylim([0.5, 1])\n",
    "plt.grid()\n",
    "plt.xlabel(\"Epoch\")\n",
    "plt.ylabel(\"Loss\")"
   ]
  },
  {
   "cell_type": "code",
   "execution_count": 19,
   "id": "26c648a4-996b-4c5e-ab42-ac3886e87214",
   "metadata": {},
   "outputs": [],
   "source": [
    "x = su2_diffusion_model.prior.sample(1024 * 16)\n",
    "with torch.no_grad():\n",
    "    y = su2_diffusion_model.denoising_flow.forward(x)"
   ]
  },
  {
   "cell_type": "code",
   "execution_count": 20,
   "id": "94a6271f-52aa-4c35-b48c-4b82e60bb1f5",
   "metadata": {},
   "outputs": [],
   "source": [
    "theta_x = [torch.linalg.eig(sample)[0].angle() for sample in x]\n",
    "theta_y = [torch.linalg.eig(sample)[0].angle() for sample in y]\n",
    "\n",
    "theta_test = [torch.linalg.eig(sample)[0].angle() for sample in nf_samples]"
   ]
  },
  {
   "cell_type": "code",
   "execution_count": 21,
   "id": "abb8bd0c-3d4c-48c6-8b21-a4f8f29c1fdf",
   "metadata": {},
   "outputs": [],
   "source": [
    "theta_x = np.array([grab(q) for q in theta_x])\n",
    "theta_y = np.array([grab(q) for q in theta_y])\n",
    "theta_test = np.array([grab(q) for q in theta_test])"
   ]
  },
  {
   "cell_type": "code",
   "execution_count": 22,
   "id": "df31824d-f06a-4283-85b7-e22753ac9f6f",
   "metadata": {},
   "outputs": [
    {
     "data": {
      "image/png": "[encoded data removed]",
      "text/plain": [
       "<Figure size 640x480 with 1 Axes>"
      ]
     },
     "metadata": {},
     "output_type": "display_data"
    }
   ],
   "source": [
    "from scipy.special import iv as bessel_i  # bessel function I_v\n",
    "\n",
    "su2_norm = lambda beta: beta / (2 * np.pi * bessel_i(1, beta))  # page 916, 8.431.6\n",
    "\n",
    "beta = 6\n",
    "x = np.linspace(-1, 1, 1000) * np.pi\n",
    "plt.plot(x, np.sin(x)**2  * np.exp(beta * np.cos(x)) * su2_norm(beta), 'k', label='exact')\n",
    "\n",
    "\n",
    "plt.hist(theta_x.ravel(), label = 'prior', bins=100, density=True, alpha=0.5)\n",
    "plt.hist(theta_y.ravel(), label = 'dm', bins=100, density=True, alpha=0.5)\n",
    "plt.hist(theta_test.ravel(), label = 'nf', bins=100, density=True, alpha=0.5)\n",
    "\n",
    "plt.legend();"
   ]
  }
 ],
 "metadata": {
  "kernelspec": {
   "display_name": "Python 3 (ipykernel)",
   "language": "python",
   "name": "python3"
  },
  "language_info": {
   "codemirror_mode": {
    "name": "ipython",
    "version": 3
   },
   "file_extension": ".py",
   "mimetype": "text/x-python",
   "name": "python",
   "nbconvert_exporter": "python",
   "pygments_lexer": "ipython3",
   "version": "3.13.2"
  }
 },
 "nbformat": 4,
 "nbformat_minor": 5
}
